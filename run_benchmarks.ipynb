{
 "cells": [
  {
   "cell_type": "code",
   "execution_count": null,
   "id": "c6302f36-89c2-4bd6-9eee-1181ea405467",
   "metadata": {},
   "outputs": [],
   "source": [
    "# Run the installation script. Only needs to be run once. Installs SGLang, vLLM, and all dependencies. \n",
    "exec(open('installation_script.py').read())\n"
   ]
  },
  {
   "cell_type": "code",
   "execution_count": 9,
   "id": "c6104604-2099-4ed0-a0fe-bce61bb5b0a5",
   "metadata": {
    "scrolled": true
   },
   "outputs": [
    {
     "name": "stdout",
     "output_type": "stream",
     "text": [
      "🔧 Available functions:\n",
      "  - run_comparison() : Compare vLLM and SGLang\n",
      "  - test_sglang_only() : Test all SGLang timing approaches\n",
      "  - set_debug(True) : Enable debug output\n",
      "  - change_prompt('...') : Change the test prompt\n",
      "  - change_tokens(min=X, max=Y) : Change token limits\n",
      "\n",
      "Running default comparison...\n",
      "\n",
      "✓ Prompt changed to: 'Do an in-depth historical analysis of the Declaration of Independence'\n",
      "✓ Sampling parameters updated:\n",
      "  - Temperature: 0.5\n",
      "  - Top-p: 0.9\n",
      "  - Repetition penalty: 1.0\n",
      "  - Min tokens: 512\n",
      "  - Max tokens: 1024\n",
      "✓ Sampling parameters updated:\n",
      "  - Temperature: 0.5\n",
      "  - Top-p: 0.8\n",
      "  - Repetition penalty: 1.0\n",
      "  - Min tokens: 512\n",
      "  - Max tokens: 1024\n",
      "✓ Sampling parameters updated:\n",
      "  - Temperature: 0.5\n",
      "  - Top-p: 0.8\n",
      "  - Repetition penalty: 1.0\n",
      "  - Min tokens: 128\n",
      "  - Max tokens: 1024\n",
      "✓ Sampling parameters updated:\n",
      "  - Temperature: 0.5\n",
      "  - Top-p: 0.8\n",
      "  - Repetition penalty: 1.0\n",
      "  - Min tokens: 128\n",
      "  - Max tokens: 1024\n",
      "✓ Sampling parameters updated:\n",
      "  - Temperature: 0.5\n",
      "  - Top-p: 0.8\n",
      "  - Repetition penalty: 0.8\n",
      "  - Min tokens: 128\n",
      "  - Max tokens: 1024\n",
      "🔥 Running vLLM + SGLang Comparison (SIMPLIFIED TIMING)\n",
      "==================================================\n",
      "Shared prompt: 'Do an in-depth historical analysis of the Declaration of Independence'\n",
      "Model: deepseek-ai/DeepSeek-R1-Distill-Qwen-7B\n",
      "Max tokens: 1024\n",
      "==================================================\n",
      "\n",
      "🚀 Running vLLM...\n",
      "=== vLLM Hello World ===\n",
      "🧹 Clearing GPU memory...\n",
      "✓ GPU memory cleared\n",
      "📊 GPU Memory - Used: 0.0GB, Reserved: 0.0GB, Total: 79.1GB\n",
      "✓ vLLM imported successfully\n",
      "Loading model: deepseek-ai/DeepSeek-R1-Distill-Qwen-7B\n",
      "WARNING 06-15 02:44:47 [env_override.py:17] NCCL_CUMEM_ENABLE is set to 0, skipping override. This may increase memory overhead with cudagraph+allreduce: https://github.com/NVIDIA/nccl/issues/1234\n",
      "INFO 06-15 02:44:50 [__init__.py:244] Automatically detected platform cuda.\n",
      "INFO 06-15 02:44:53 [core.py:455] Waiting for init message from front-end.\n",
      "INFO 06-15 02:44:53 [core.py:70] Initializing a V1 LLM engine (v0.9.1) with config: model='deepseek-ai/DeepSeek-R1-Distill-Qwen-7B', speculative_config=None, tokenizer='deepseek-ai/DeepSeek-R1-Distill-Qwen-7B', skip_tokenizer_init=False, tokenizer_mode=auto, revision=None, override_neuron_config={}, tokenizer_revision=None, trust_remote_code=False, dtype=torch.bfloat16, max_seq_len=2048, download_dir=None, load_format=LoadFormat.AUTO, tensor_parallel_size=1, pipeline_parallel_size=1, disable_custom_all_reduce=False, quantization=None, enforce_eager=True, kv_cache_dtype=auto,  device_config=cuda, decoding_config=DecodingConfig(backend='auto', disable_fallback=False, disable_any_whitespace=False, disable_additional_properties=False, reasoning_backend=''), observability_config=ObservabilityConfig(show_hidden_metrics_for_version=None, otlp_traces_endpoint=None, collect_detailed_traces=None), seed=0, served_model_name=deepseek-ai/DeepSeek-R1-Distill-Qwen-7B, num_scheduler_steps=1, multi_step_stream_outputs=True, enable_prefix_caching=True, chunked_prefill_enabled=True, use_async_output_proc=False, pooler_config=None, compilation_config={\"level\":0,\"debug_dump_path\":\"\",\"cache_dir\":\"\",\"backend\":\"\",\"custom_ops\":[],\"splitting_ops\":[],\"use_inductor\":true,\"compile_sizes\":[],\"inductor_compile_config\":{\"enable_auto_functionalized_v2\":false},\"inductor_passes\":{},\"use_cudagraph\":true,\"cudagraph_num_of_warmups\":0,\"cudagraph_capture_sizes\":[],\"cudagraph_copy_inputs\":false,\"full_cuda_graph\":false,\"max_capture_size\":0,\"local_cache_dir\":null}\n",
      "WARNING 06-15 02:44:54 [utils.py:2737] Methods determine_num_available_blocks,device_config,get_cache_block_size_bytes,initialize_cache not implemented in <vllm.v1.worker.gpu_worker.Worker object at 0x74d851d2f3d0>\n",
      "INFO 06-15 02:44:54 [parallel_state.py:1065] rank 0 in world size 1 is assigned as DP rank 0, PP rank 0, TP rank 0, EP rank 0\n",
      "INFO 06-15 02:44:54 [topk_topp_sampler.py:49] Using FlashInfer for top-p & top-k sampling.\n",
      "INFO 06-15 02:44:54 [gpu_model_runner.py:1595] Starting to load model deepseek-ai/DeepSeek-R1-Distill-Qwen-7B...\n",
      "INFO 06-15 02:44:55 [gpu_model_runner.py:1600] Loading model from scratch...\n",
      "INFO 06-15 02:44:55 [cuda.py:252] Using Flash Attention backend on V1 engine.\n",
      "INFO 06-15 02:44:55 [weight_utils.py:292] Using model weights format ['*.safetensors']\n"
     ]
    },
    {
     "name": "stderr",
     "output_type": "stream",
     "text": [
      "Loading safetensors checkpoint shards:   0% Completed | 0/2 [00:00<?, ?it/s]\n",
      "Loading safetensors checkpoint shards:  50% Completed | 1/2 [00:00<00:00,  1.05it/s]\n",
      "Loading safetensors checkpoint shards: 100% Completed | 2/2 [00:02<00:00,  1.32s/it]\n",
      "Loading safetensors checkpoint shards: 100% Completed | 2/2 [00:02<00:00,  1.26s/it]\n",
      "\n"
     ]
    },
    {
     "name": "stdout",
     "output_type": "stream",
     "text": [
      "INFO 06-15 02:44:58 [default_loader.py:272] Loading weights took 2.99 seconds\n",
      "INFO 06-15 02:44:59 [gpu_model_runner.py:1624] Model loading took 14.2717 GiB and 3.276388 seconds\n"
     ]
    },
    {
     "name": "stderr",
     "output_type": "stream",
     "text": [
      "/usr/local/lib/python3.11/dist-packages/torch/utils/cpp_extension.py:2356: UserWarning: TORCH_CUDA_ARCH_LIST is not set, all archs for visible cards are included for compilation. \n",
      "If this is not desired, please set os.environ['TORCH_CUDA_ARCH_LIST'].\n",
      "  warnings.warn(\n"
     ]
    },
    {
     "name": "stdout",
     "output_type": "stream",
     "text": [
      "INFO 06-15 02:45:02 [gpu_worker.py:227] Available KV cache memory: 46.66 GiB\n",
      "INFO 06-15 02:45:02 [kv_cache_utils.py:715] GPU KV cache size: 873,648 tokens\n",
      "INFO 06-15 02:45:02 [kv_cache_utils.py:719] Maximum concurrency for 2,048 tokens per request: 426.59x\n",
      "INFO 06-15 02:45:02 [core.py:171] init engine (profile, create kv cache, warmup model) took 3.36 seconds\n",
      "✓ Model loaded successfully!\n",
      "📊 GPU Memory - Used: 0.0GB, Reserved: 0.0GB, Total: 79.1GB\n",
      "Input prompt: 'Do an in-depth historical analysis of the Declaration of Independence'\n",
      "Generation params: min_tokens=128, max_tokens=1024\n",
      "Generating response...\n"
     ]
    },
    {
     "data": {
      "application/vnd.jupyter.widget-view+json": {
       "model_id": "bb642746809240538ff4ed46af9fe1ab",
       "version_major": 2,
       "version_minor": 0
      },
      "text/plain": [
       "Adding requests:   0%|          | 0/1 [00:00<?, ?it/s]"
      ]
     },
     "metadata": {},
     "output_type": "display_data"
    },
    {
     "data": {
      "application/vnd.jupyter.widget-view+json": {
       "model_id": "4bc93abbbd114609ab84cda904bbfc56",
       "version_major": 2,
       "version_minor": 0
      },
      "text/plain": [
       "Processed prompts:   0%|          | 0/1 [00:00<?, ?it/s, est. speed input: 0.00 toks/s, output: 0.00 toks/s]"
      ]
     },
     "metadata": {},
     "output_type": "display_data"
    },
    {
     "name": "stdout",
     "output_type": "stream",
     "text": [
      "vLLM Generated: ', the Declaration of Independence of the United States, the Declaration of Independence of the Philippines, the Declaration of Independence of the Bahamas, the Declaration of Independence of the Cayman Islands, the Declaration of Independence of the United States of America, the Declaration of Independence of the United States of America, the Declaration of Independence of the United States of America, the Declaration of Independence of the United States of America, the Declaration of Independence of the United States of America, the Declaration of Independence of the United States of America, the Declaration of Independence of the United States of America, the Declaration of Independence of the United States of America, the Declaration of Independence of the United States of America, the Declaration of Independence of the United States of America, the Declaration of Independence of the United States of America, the Declaration of Independence of the United States of America, the Declaration of Independence of the United States of America, the Declaration of Independence of the United States of America, the Declaration of Independence of the United States of America, the Declaration of Independence of the United States of America, the Declaration of Independence of the United States of America, the Declaration of Independence of the United States of America, the Declaration of Independence of the United States of America, the Declaration of Independence of the United States of America, the Declaration of Independence of the United States of America, the Declaration of Independence of the United States of America, the Declaration of Independence of the United States of America, the Declaration of Independence of the United States of America, the Declaration of Independence of the United States of America, the Declaration of Independence of the United States of America, the Declaration of Independence of the United States of America, the Declaration of Independence of the United States of America, the Declaration of Independence of the United States of America, the Declaration of Independence of the United States of America, the Declaration of Independence of the United States of America, the Declaration of Independence of the United States of America, the Declaration of Independence of the United States of America, the Declaration of Independence of the United States of America, the Declaration of Independence of the United States of America, the Declaration of Independence of the United States of America, the Declaration of Independence of the United States of America, the Declaration of Independence of the United States of America, the Declaration of Independence of the United States of America, the Declaration of Independence of the United States of America, the Declaration of Independence of the United States of America, the Declaration of Independence of the United States of America, the Declaration of Independence of the United States of America, the Declaration of Independence of the United States of America, the Declaration of Independence of the United States of America, the Declaration of Independence of the United States of America, the Declaration of Independence of the United States of America, the Declaration of Independence of the United States of America, the Declaration of Independence of the United States of America, the Declaration of Independence of the United States of America, the Declaration of Independence of the United States of America, the Declaration of Independence of the United States of America, the Declaration of Independence of the United States of America, the Declaration of Independence of the United States of America, the Declaration of Independence of the United States of America, the Declaration of Independence of the United States of America, the Declaration of Independence of the United States of America, the Declaration of Independence of the United States of America, the Declaration of Independence of the United States of America, the Declaration of Independence of the United States of America, the Declaration of Independence of the United States of America, the Declaration of Independence of the United States of America, the Declaration of Independence of the United States of America, the Declaration of Independence of the United States of America, the Declaration of Independence of the United States of America, the Declaration of Independence of the United States of America, the Declaration of Independence of the United States of America, the Declaration of Independence of the United States of America, the Declaration of Independence of the United States of America, the Declaration of Independence of the United States of America, the Declaration of Independence of the United States of America, the Declaration of Independence of the United States of America, the Declaration of Independence of the United States of America, the Declaration of Independence of the United States of America, the Declaration of Independence of the United States of America, the Declaration of Independence of the United States of America, the Declaration of Independence of the United States of America, the Declaration of Independence of the United States of America, the Declaration of Independence of the United States of America, the Declaration of Independence of the United States of America, the Declaration of Independence of the United States of America, the Declaration of Independence of the United States of America, the Declaration of Independence of the United States of America, the Declaration of Independence of the United States of America, the Declaration of Independence of the United States of America, the Declaration of Independence of the United States of America, the Declaration of Independence of the United States of America, the Declaration of Independence of the United States of America, the Declaration of Independence of the United States of America, the Declaration of Independence of the United States of'\n",
      "📊 Tokens generated: ~1024\n",
      "⏱️ Generation time: 17.19 seconds\n",
      "🚀 Speed: ~59.6 tokens/second\n",
      "✓ vLLM Hello World completed successfully!\n",
      "🧹 Cleaning up vLLM resources...\n"
     ]
    },
    {
     "name": "stderr",
     "output_type": "stream",
     "text": [
      "[rank0]:[W615 02:45:21.132209754 ProcessGroupNCCL.cpp:1479] Warning: WARNING: destroy_process_group() was not called before program exit, which can leak resources. For more info, please see https://pytorch.org/docs/stable/distributed.html#shutdown (function operator())\n"
     ]
    },
    {
     "name": "stdout",
     "output_type": "stream",
     "text": [
      "📊 GPU Memory - Used: 0.0GB, Reserved: 0.0GB, Total: 79.1GB\n",
      "✓ vLLM resources cleaned up\n",
      "\n",
      "🚀 Running SGLang with direct approach...\n",
      "\n",
      "=== SGLang Hello World (DIRECT) ===\n",
      "🧹 Clearing GPU memory...\n",
      "✓ GPU memory cleared\n",
      "📊 GPU Memory - Used: 0.0GB, Reserved: 0.0GB, Total: 79.1GB\n",
      "✓ SGLang imported successfully\n",
      "Starting SGLang runtime with model: deepseek-ai/DeepSeek-R1-Distill-Qwen-7B\n",
      "WARNING 06-15 02:45:31 [env_override.py:17] NCCL_CUMEM_ENABLE is set to 0, skipping override. This may increase memory overhead with cudagraph+allreduce: https://github.com/NVIDIA/nccl/issues/1234\n",
      "INFO 06-15 02:45:31 [__init__.py:244] Automatically detected platform cuda.\n",
      "WARNING 06-15 02:45:39 [env_override.py:17] NCCL_CUMEM_ENABLE is set to 0, skipping override. This may increase memory overhead with cudagraph+allreduce: https://github.com/NVIDIA/nccl/issues/1234\n",
      "WARNING 06-15 02:45:39 [env_override.py:17] NCCL_CUMEM_ENABLE is set to 0, skipping override. This may increase memory overhead with cudagraph+allreduce: https://github.com/NVIDIA/nccl/issues/1234\n",
      "INFO 06-15 02:45:39 [__init__.py:244] Automatically detected platform cuda.\n",
      "INFO 06-15 02:45:39 [__init__.py:244] Automatically detected platform cuda.\n"
     ]
    },
    {
     "name": "stderr",
     "output_type": "stream",
     "text": [
      "Loading safetensors checkpoint shards:   0% Completed | 0/2 [00:00<?, ?it/s]\n",
      "Loading safetensors checkpoint shards:  50% Completed | 1/2 [00:00<00:00,  1.06it/s]\n",
      "Loading safetensors checkpoint shards: 100% Completed | 2/2 [00:02<00:00,  1.31s/it]\n",
      "Loading safetensors checkpoint shards: 100% Completed | 2/2 [00:02<00:00,  1.25s/it]\n",
      "\n",
      "Capturing batches (avail_mem=19.63 GB): 100%|██████████| 23/23 [00:08<00:00,  2.66it/s]\n"
     ]
    },
    {
     "name": "stdout",
     "output_type": "stream",
     "text": [
      "✓ SGLang runtime started successfully!\n",
      "🚀 Using direct text generation...\n",
      "SGLang Generated: '<think>\n",
      "Okay, so I need to do a historical analysis of the Declaration of Independence. I'm not super familiar with it, but I know it's a big document from the American colonies. Let me start by recalling what I know. The Declaration was written in 1776 and it's a statement of independence from Great Britain. It's a foundational document for American democracy, right?\n",
      "\n",
      "I think it was written by Thomas Jefferson, but I'm not 100% sure. Maybe it was a group of people? I remember learning that it was a response to the Intolerable Acts, like the Boston Port Act, which the colonists were protesting. The main idea was to declare independence and establish a new government.\n",
      "\n",
      "Wait, so the key points must include the reasons for independence. The British were imposing taxes without representation, which the colonists felt was unfair. Also, the idea of a social contract was important—colonists wanted their own government where they had control over their affairs.\n",
      "\n",
      "I should structure this analysis. Maybe start with the context: when it was written, the reasons behind it, and the key arguments. Then go into the structure and language, how it was phrased. Also, the impact it had on American history and how it influenced future events.\n",
      "\n",
      "I'm a bit fuzzy on the exact wording. I think it starts with \"We hold these truths to be...\" and lists several grievances. The grievances probably include taxes without representation, lack of trial by jury, the Quartering Act, etc. Also, the idea that the colonies were a new nation, separate from Britain.\n",
      "\n",
      "I should also consider the historical significance. This document marked the beginning of the American Revolution, leading to the founding of the United States. It influenced the writing of the US Constitution and the Bill of Rights. It's a cornerstone of modern democracy.\n",
      "\n",
      "Wait, but how did it actually work? Were the colonists able to pass this declaration without British permission? I think they had to get it signed by representatives in the British Parliament, but the actual document wasn't published until later. That might have delayed its impact a bit.\n",
      "\n",
      "Also, the Declaration wasn't just about independence; it was a statement of the principles they wanted their new government to uphold. Ideas like liberty, equality, and pursuit of happiness were central. These ideas have had a lasting influence on political thought and movements for rights.\n",
      "\n",
      "I should also touch on the legacy. How has the Declaration of Independence influenced other countries and movements? The concept of independence and self-governance is something many nations have adopted, so this document had a broad impact beyond just the United States.\n",
      "\n",
      "I'm not entirely sure about all the specific events that led up to the Declaration. There were other protests, like the Boston Tea Party, and the Boston Massacre. The colonists were protesting British policies for years before the Declaration was written.\n",
      "\n",
      "Another point is the structure of the Declaration. It's divided into sections, each addressing different grievances. The language is formal and legalistic, which makes sense for a declaration of independence. It's a balance of declaring independence and promising to uphold certain rights.\n",
      "\n",
      "I think I should also mention the reaction to the Declaration. Initially, it was met with some skepticism because it wasn't published until after the actual act of independence was declared. This might have delayed its recognition, but it eventually became a key document in the revolutionary period.\n",
      "\n",
      "In terms of analysis, I should discuss the political and social movements that led to the Declaration. The Enlightenment influenced the colonists' ideas about natural rights and government. The Declaration was a response to the traditional British system and the emerging democratic ideas in the colonies.\n",
      "\n",
      "I should also consider the challenges the colonists faced in proving their independence. They had to overcome both British military force and internal divisions. The Declaration was a powerful tool to unify them and provide a common set of principles.\n",
      "\n",
      "Lastly, the Declaration's legacy today. It's still celebrated as a symbol of freedom and democracy. Many countries have adopted its principles, and it's a part of the cultural and historical identity of the United States.\n",
      "\n",
      "I think I have a good outline now. I'll structure the analysis into sections: introduction, context, reasons for independence, structure and language, impact, legacy, and conclusion. Each section will delve into the key points I've thought about, providing a comprehensive historical analysis.\n",
      "</think>\n",
      "\n",
      "**Historical Analysis of the Declaration of Independence**\n",
      "\n",
      "**Introduction:**\n",
      "The Declaration of Independence, adopted on July 4, 1776, is a seminal document marking the formal separation of the Thirteen Colonies from Great Britain, thereby establishing the United States. This analysis explores its historical context, arguments, structure, impact, and legacy.\n",
      "\n",
      "**Context:**\n",
      "Written during the American Revolutionary period, the Declaration addressed the colonists' growing dissatisfaction with British rule. Key events leading to its writing included the Boston Port Act, the Boston Tea Party, and the Quartering Act, which highlighted British-imposed taxes without representation. The colonists were seeking a new government and a declaration of their independence'\n",
      "📊 Tokens generated: ~836\n",
      "⏱️ Generation time: 15.56 seconds\n",
      "🚀 Speed: ~53.7 tokens/second\n",
      "🧹 Clearing GPU memory...\n",
      "✓ GPU memory cleared\n",
      "\n",
      "==================================================\n",
      "📊 COMPARISON SUMMARY\n",
      "==================================================\n",
      "vLLM: 17.19s, ~1024 tokens, 59.6 tok/s\n",
      "SGLang: 15.56s, ~836 tokens, 53.7 tok/s\n",
      "🥇 vLLM was 1.1x faster in tokens/second\n"
     ]
    }
   ],
   "source": [
    "exec(open('hello_world_script.py').read())\n",
    "\n",
    "# Here is the prompt to benchmark against both vLLM and SGLang. Change as required. Simple one-shot prompt test, runs one prompt, gives you the results. \n",
    "change_prompt(\"Do an in-depth historical analysis of the Declaration of Independence\")\n",
    "\n",
    "# Or change individual parameters\n",
    "change_samplers(temperature=0.5)  # Only changes temperature\n",
    "change_samplers(top_p=0.8)        # Only changes top_p, etc\n",
    "change_samplers(min_tokens=128)    \n",
    "change_samplers(max_tokens=1024)\n",
    "change_samplers(repetition_penalty=0.8)    \n",
    "\n",
    "# Run the comparison\n",
    "run_comparison()"
   ]
  },
  {
   "cell_type": "code",
   "execution_count": null,
   "id": "4b6c2067-f31a-4a34-a406-da7259029aca",
   "metadata": {},
   "outputs": [],
   "source": []
  }
 ],
 "metadata": {
  "kernelspec": {
   "display_name": "Python 3 (ipykernel)",
   "language": "python",
   "name": "python3"
  },
  "language_info": {
   "codemirror_mode": {
    "name": "ipython",
    "version": 3
   },
   "file_extension": ".py",
   "mimetype": "text/x-python",
   "name": "python",
   "nbconvert_exporter": "python",
   "pygments_lexer": "ipython3",
   "version": "3.11.11"
  }
 },
 "nbformat": 4,
 "nbformat_minor": 5
}
